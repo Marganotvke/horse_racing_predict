{
 "cells": [
  {
   "cell_type": "code",
   "execution_count": 1,
   "metadata": {},
   "outputs": [],
   "source": [
    "import os\n",
    "import pandas as pd\n",
    "import torch as tc\n",
    "import numpy as np\n",
    "import matplotlib as plt\n",
    "import dateutil.parser as dtpr\n",
    "import torch\n",
    "\n",
    "pd.set_option('display.max_columns',500)\n",
    "pd.set_option('display.max_rows',100)"
   ]
  },
  {
   "cell_type": "code",
   "execution_count": 2,
   "metadata": {},
   "outputs": [],
   "source": [
    "target_csv = \"data\\\\2023.csv\"\n",
    "if os.path.isfile(target_csv):\n",
    "    data = pd.read_csv(target_csv)\n",
    "else:\n",
    "    raise FileNotFoundError()"
   ]
  },
  {
   "cell_type": "code",
   "execution_count": null,
   "metadata": {},
   "outputs": [],
   "source": [
    "split_loc = \"data\\\\set\"\n",
    "if not os.path.exists(split_loc):\n",
    "    os.makedirs(split_loc)"
   ]
  },
  {
   "cell_type": "code",
   "execution_count": null,
   "metadata": {},
   "outputs": [],
   "source": [
    "data.dtypes"
   ]
  },
  {
   "attachments": {},
   "cell_type": "markdown",
   "metadata": {},
   "source": [
    "### Clean up data"
   ]
  },
  {
   "cell_type": "code",
   "execution_count": 3,
   "metadata": {},
   "outputs": [],
   "source": [
    "data.drop(columns=[\"region\",\"comment\",\"num\"], inplace=True, errors=\"ignore\")\n",
    "data.sort_values(by=\"date\",inplace=True)\n",
    "data = data[data.secs != \"-\"]\n",
    "data[\"secs\"] = data[\"secs\"].astype(float)\n",
    "data = data[data[\"or\"] != \"–\"]\n",
    "data[\"or\"] = data[\"or\"].astype(int)\n",
    "data = data[data.rpr != \"–\"]\n",
    "data[\"rpr\"] = data[\"rpr\"].astype(int)\n",
    "data = data[data[\"pos\"].str.isdigit()]\n",
    "data[\"pos\"] = data[\"pos\"].astype(int)\n",
    "data[\"ovr_btn\"] = data[\"ovr_btn\"].astype(float)\n",
    "data[\"class\"] = np.where(~data[\"pattern\"].isna(), \"g\", data[\"class\"])\n",
    "data[\"class\"] = np.where(data[\"class\"].isna() & data[\"race_name\"].str.contains('|'.join([\"Classic Mile\", \"Classic Cup\", \"Derby\"])),\"l\",data[\"class\"])\n",
    "data[\"class\"].fillna(value=\"NaN\", inplace=True)\n",
    "data[\"class_code\"] = data[\"class\"].replace({\"Class 5\": 0, \"Class 4\":0, \"Class 3\":1, \"Class 2\": 2, \"Class 1\":3, \"l\":4, \"g\":5, \"NaN\":0})\n",
    "data[\"course_code\"] = data[\"course\"].replace({\"Happy Valley (HK)\":0, \"Sha Tin (HK)\":1})\n",
    "data[\"date_time\"] = pd.to_datetime(data[\"date\"] + \" \" + data[\"off\"])\n",
    "data[\"date\"] = pd.to_datetime(data[\"date\"])\n",
    "data[\"pattern_code\"] = (data[\"pattern\"].fillna(value=\"N\")).replace({\"N\":0,\"Group 3\":1,\"Group 2\": 2, \"Group 1\":3})\n",
    "data[\"age_band_code\"] = data[\"age_band\"].replace({\"2yo+\":0,\"3yo\":1,\"3yo+\":2,\"4yo\":3,\"4yo+\":4})\n",
    "data[\"dist_code\"] = data[\"dist_m\"].replace({distance: i for i, distance in enumerate(sorted(data[\"dist_m\"].unique()))})\n",
    "data[\"going_code\"] = data[\"going\"].replace({surf: i for i, surf in enumerate(data[\"going\"].unique())})\n",
    "data[\"surface_code\"] = data[\"surface\"].replace({surf: i for i, surf in enumerate(data[\"surface\"].unique())})\n",
    "data[\"sex_code\"] = data[\"sex\"].replace({sex: i for i, sex in enumerate(data[\"sex\"].unique())})\n",
    "data.fillna(value={\"hg\":\"None\"},inplace=True)\n",
    "data[\"hg_code\"] = data[\"hg\"].replace({hg: i for i, hg in enumerate(data[\"hg\"].unique())})"
   ]
  },
  {
   "attachments": {},
   "cell_type": "markdown",
   "metadata": {},
   "source": [
    "### Create new features"
   ]
  },
  {
   "cell_type": "code",
   "execution_count": null,
   "metadata": {},
   "outputs": [],
   "source": [
    "data[\"month\"] = data[\"date\"].dt.month\n",
    "data[\"quarter\"] = (data[\"date\"].dt.month+2)//3\n",
    "# if advantage stall number\n",
    "data[\"in_stall\"] = np.where(data[\"draw\"] <= 4, 1, 0)\n",
    "# if top3\n",
    "data[\"in_place\"] = np.where(data[\"pos\"] <= 3,1,0)\n",
    "# if win\n",
    "data[\"win\"] = np.where(data[\"pos\"] == 1, 1, 0)\n",
    "# log of dec\n",
    "data[\"decLog\"] = np.log1p(data[\"dec\"])\n",
    "# age under 3\n",
    "data[\"age_u3\"] = np.where(data[\"age\"] <= 4, 1, 0)\n",
    "# rest time between race in days\n",
    "data[\"rest_time\"] = (data[\"date\"]-(data.groupby(\"horse_id\")[\"date\"].shift())).dt.days\n",
    "data[\"rest_time\"] = data[\"rest_time\"].fillna(data[\"rest_time\"].mode()[0])\n",
    "data[\"rest_less14\"] = np.where(data[\"rest_time\"] < 14, 1, 0)\n",
    "data[\"rest_ovr32\"] = (data[\"rest_time\"]>32)*1\n",
    "# horse_id total/recent winrate/inplacerate\n",
    "data[\"h_cwin\"] = (data.groupby(\"horse_id\")[\"win\"].transform(\"sum\"))/(data.groupby(\"horse_id\")[\"horse_id\"].transform(\"count\"))\n",
    "data[\"h_rwin\"] = (data.groupby(\"horse_id\", group_keys=False)[\"win\"].apply(lambda x: x.rolling(4, min_periods=1).sum())) / (((data.groupby(\"horse_id\")[\"horse_id\"]).transform(\"cumcount\")+1).apply(lambda x: 4 if x >= 4 else x))\n",
    "data[\"h_cplace\"] = (data.groupby(\"horse_id\")[\"in_place\"].transform(\"sum\"))/(data.groupby(\"horse_id\")[\"horse_id\"].transform(\"count\"))\n",
    "data[\"h_rplace\"] = (data.groupby(\"horse_id\", group_keys=False)[\"in_place\"].apply(lambda x: x.rolling(4, min_periods=1).sum())) / (((data.groupby(\"horse_id\")[\"horse_id\"]).transform(\"cumcount\")+1).apply(lambda x: 4 if x >= 4 else x))\n",
    "# jockey_id total/recent winrate/inplacerate\n",
    "data[\"j_cwin\"] = (data.groupby(\"jockey_id\")[\"win\"].transform(\"sum\"))/(data.groupby(\"jockey_id\")[\"jockey_id\"].transform(\"count\"))\n",
    "data[\"j_rwin\"] = (data.groupby(\"jockey_id\", group_keys=False)[\"win\"].apply(lambda x: x.rolling(4, min_periods=1).sum())) / (((data.groupby(\"jockey_id\")[\"jockey_id\"]).transform(\"cumcount\")+1).apply(lambda x: 4 if x >= 4 else x))\n",
    "data[\"j_cplace\"] = (data.groupby(\"jockey_id\")[\"in_place\"].transform(\"sum\"))/(data.groupby(\"jockey_id\")[\"jockey_id\"].transform(\"count\"))\n",
    "data[\"j_rplace\"] = (data.groupby(\"jockey_id\", group_keys=False)[\"in_place\"].apply(lambda x: x.rolling(4, min_periods=1).sum())) / (((data.groupby(\"jockey_id\")[\"jockey_id\"]).transform(\"cumcount\")+1).apply(lambda x: 4 if x >= 4 else x))\n",
    "# trainer_id total/recent winrate/inplacerate\n",
    "data[\"t_cwin\"] = (data.groupby(\"trainer_id\")[\"win\"].transform(\"sum\"))/(data.groupby(\"trainer_id\")[\"trainer_id\"].transform(\"count\"))\n",
    "data[\"t_rwin\"] = (data.groupby(\"trainer_id\", group_keys=False)[\"win\"].apply(lambda x: x.rolling(4, min_periods=1).sum())) / (((data.groupby(\"trainer_id\")[\"trainer_id\"]).transform(\"cumcount\")+1).apply(lambda x: 4 if x >= 4 else x))\n",
    "data[\"t_cplace\"] = (data.groupby(\"trainer_id\")[\"in_place\"].transform(\"sum\"))/(data.groupby(\"trainer_id\")[\"trainer_id\"].transform(\"count\"))\n",
    "data[\"t_rplace\"] = (data.groupby(\"trainer_id\", group_keys=False)[\"in_place\"].apply(lambda x: x.rolling(4, min_periods=1).sum())) / (((data.groupby(\"trainer_id\")[\"trainer_id\"]).transform(\"cumcount\")+1).apply(lambda x: 4 if x >= 4 else x))"
   ]
  },
  {
   "cell_type": "code",
   "execution_count": null,
   "metadata": {},
   "outputs": [],
   "source": [
    "train = train[ ['date_time'] + [ col for col in train.columns if col != 'date_time' ] ]\n",
    "train.sort_values(by=[\"date_time\",\"pos\"],inplace=True)"
   ]
  },
  {
   "cell_type": "code",
   "execution_count": null,
   "metadata": {},
   "outputs": [],
   "source": [
    "train = data.drop(columns=[\"date_time\",\"dist_m\",\"sex\", \"course\", \"race_name\", \"date\", \"off\", \"class\", \"pattern\", \"age_band\", \"hg\", \"going\", \"surface\", \"horse\", \"jockey\", \"trainer\", \"dam\", \"sire\", \"damsire\"], errors='ignore')"
   ]
  },
  {
   "cell_type": "code",
   "execution_count": null,
   "metadata": {},
   "outputs": [],
   "source": [
    "train = pd.get_dummies(train, columns=[\"ran\",\"class_code\",\"pattern_code\",\"age_band_code\",\"dist_code\",\"going_code\",\"surface_code\",\"sex_code\",\"hg_code\",\"quarter\"])"
   ]
  },
  {
   "cell_type": "code",
   "execution_count": null,
   "metadata": {},
   "outputs": [],
   "source": [
    "train.dtypes"
   ]
  },
  {
   "cell_type": "code",
   "execution_count": null,
   "metadata": {},
   "outputs": [],
   "source": [
    "from torch import tensor"
   ]
  },
  {
   "cell_type": "code",
   "execution_count": null,
   "metadata": {},
   "outputs": [],
   "source": [
    "t_dep = tensor(np.array(train[\"win\"])) # predictor\n",
    "t_indep = tensor(train[[col for col in train.columns if col != \"win\"]].values, dtype=tc.float) # influencer"
   ]
  },
  {
   "cell_type": "code",
   "execution_count": null,
   "metadata": {},
   "outputs": [],
   "source": [
    "t_indep.shape"
   ]
  },
  {
   "cell_type": "code",
   "execution_count": null,
   "metadata": {},
   "outputs": [],
   "source": [
    "torch.manual_seed(369)\n",
    "coeffs = torch.rand(t_indep.shape[1])-0.5\n",
    "coeffs.shape"
   ]
  },
  {
   "cell_type": "code",
   "execution_count": null,
   "metadata": {},
   "outputs": [],
   "source": [
    "vals, indicies = t_indep.max(dim=0)\n",
    "t_indep = t_indep/vals"
   ]
  },
  {
   "cell_type": "code",
   "execution_count": null,
   "metadata": {},
   "outputs": [],
   "source": [
    "predict = (t_indep*coeffs).sum(axis=1)\n",
    "predict[:10] # predictions by random coefficient"
   ]
  }
 ],
 "metadata": {
  "kernelspec": {
   "display_name": "Python 3",
   "language": "python",
   "name": "python3"
  },
  "language_info": {
   "codemirror_mode": {
    "name": "ipython",
    "version": 3
   },
   "file_extension": ".py",
   "mimetype": "text/x-python",
   "name": "python",
   "nbconvert_exporter": "python",
   "pygments_lexer": "ipython3",
   "version": "3.10.8"
  },
  "orig_nbformat": 4
 },
 "nbformat": 4,
 "nbformat_minor": 2
}
