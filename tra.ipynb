{
 "cells": [
  {
   "cell_type": "code",
   "execution_count": null,
   "metadata": {},
   "outputs": [],
   "source": [
    "import os\n",
    "import pandas as pd\n",
    "import torch as tc\n",
    "import numpy as np\n",
    "import matplotlib as plt\n",
    "import datetime as dttt\n",
    "import dateutil.parser as dtpr\n",
    "\n",
    "pd.set_option('display.max_columns',500)"
   ]
  },
  {
   "cell_type": "code",
   "execution_count": null,
   "metadata": {},
   "outputs": [],
   "source": [
    "target_csv = \"data\\\\2023.csv\"\n",
    "if os.path.isfile(target_csv):\n",
    "    data = pd.read_csv(target_csv)\n",
    "else:\n",
    "    raise FileNotFoundError()"
   ]
  },
  {
   "cell_type": "code",
   "execution_count": null,
   "metadata": {},
   "outputs": [],
   "source": [
    "split_loc = \"data\\\\set\"\n",
    "if not os.path.exists(split_loc):\n",
    "    os.makedirs(split_loc)"
   ]
  },
  {
   "cell_type": "code",
   "execution_count": null,
   "metadata": {},
   "outputs": [],
   "source": [
    "data.dtypes"
   ]
  },
  {
   "attachments": {},
   "cell_type": "markdown",
   "metadata": {},
   "source": [
    "### Clean up data"
   ]
  },
  {
   "cell_type": "code",
   "execution_count": null,
   "metadata": {},
   "outputs": [],
   "source": [
    "data.drop(columns=[\"region\",\"comment\",\"num\"], inplace=True)\n",
    "data.sort_values(by=\"date\",inplace=True)\n",
    "data = data[data.secs != \"-\"]\n",
    "data = data[data[\"or\"] != \"–\"]\n",
    "data = data[data.rpr != \"–\"]\n",
    "data = data[data[\"pos\"].str.isdigit()]\n",
    "data[\"pos\"] = data[\"pos\"].astype(int)\n",
    "data[\"class\"] = np.where(~data[\"pattern\"].isna(), \"g\", data[\"class\"])\n",
    "name_match = [\"Classic Mile\", \"Classic Cup\", \"Derby\"]\n",
    "mapCL = {\"Class 5\": 0, \"Class 4\":0, \"Class 3\":1, \"Class 2\": 2, \"Class 1\":3, \"l\":4, \"g\":5, \"NaN\":0}\n",
    "data[\"class\"] = np.where(data[\"class\"].isna() & data[\"race_name\"].str.contains('|'.join(name_match)),\"l\",data[\"class\"])\n",
    "data[\"class\"].fillna(value=\"NaN\")\n",
    "data[\"class_code\"] = data[\"class\"].replace(mapCL)\n",
    "mapC = {\"Happy Valley (HK)\":0, \"Sha Tin (HK)\":1}\n",
    "data[\"course_code\"] = data[\"course\"].replace(mapC)\n",
    "data[\"date_time\"] = pd.to_datetime(data[\"date\"] + \" \" + data[\"off\"])\n",
    "data[\"date\"] = pd.to_datetime(data[\"date\"])\n",
    "data[\"quarter\"] = (data[\"date\"].dt.month+2)//3\n",
    "mapPT = {\"N\":0,\"Group 3\":1,\"Group 2\": 2, \"Group 1\":3}\n",
    "data[\"pattern_code\"] = (data[\"pattern\"].fillna(value=\"N\")).replace(mapPT)\n",
    "mapAB = {\"2yo+\":0,\"3yo\":1,\"3yo+\":2,\"4yo\":3,\"4yo+\":4}\n",
    "data[\"age_band_code\"] = data[\"age_band\"].replace(mapAB)\n",
    "mapDist = {distance: i for i, distance in enumerate(sorted(data[\"dist_m\"].unique()))}\n",
    "data[\"dist_code\"] = data[\"dist_m\"].replace(mapDist)\n",
    "mapGO = {surf: i for i, surf in enumerate(data[\"going\"].unique())}\n",
    "data[\"going_code\"] = data[\"going\"].replace(mapGO)\n",
    "mapSF = {surf: i for i, surf in enumerate(data[\"surface\"].unique())}\n",
    "data[\"surface_code\"] = data[\"surface\"].replace(mapSF)\n",
    "mapSX = {sex: i for i, sex in enumerate(data[\"sex\"].unique())}\n",
    "data[\"sex_code\"] = data[\"sex\"].replace(mapSX)\n",
    "data.fillna(value={\"hg\":\"None\",\"class\":\"g\"},inplace=True)"
   ]
  },
  {
   "attachments": {},
   "cell_type": "markdown",
   "metadata": {},
   "source": [
    "### Create new features"
   ]
  },
  {
   "cell_type": "code",
   "execution_count": null,
   "metadata": {},
   "outputs": [],
   "source": [
    "data[\"in_place\"] = np.where(data[\"pos\"] <= 3,1,0)\n",
    "data[\"win\"] = np.where(data[\"pos\"] == 1, 1, 0)\n",
    "data[\"decLog\"] = np.log1p(data[\"dec\"])\n",
    "data[\"age_u3\"] = np.where(data[\"age\"] <= 4, 1, 0)\n",
    "data[\"rest_time\"] = (data[\"date\"]-(data.groupby(\"horse\")[\"date\"].shift())).dt.days\n",
    "data[\"rest_less14\"] = np.where(data[\"rest_time\"] < 14, 1, 0)\n",
    "data[\"rest_ovr32\"] = (data[\"rest_time\"]>32)*1\n",
    "data[\"h_cwin\"] = (data.groupby(\"horse\")[\"win\"].transform(\"sum\"))/(data.groupby(\"horse\")[\"horse\"].transform(\"count\"))\n",
    "data[\"h_rwin\"] = (data.groupby(\"horse\", group_keys=False)[\"win\"].apply(lambda x: x.rolling(4, min_periods=1).sum())) / (((data.groupby(\"horse\")[\"horse\"]).transform(\"cumcount\")+1).apply(lambda x: 4 if x >= 4 else x))\n",
    "data[\"h_cplace\"] = (data.groupby(\"horse\")[\"in_place\"].transform(\"sum\"))/(data.groupby(\"horse\")[\"horse\"].transform(\"count\"))\n",
    "data[\"h_rplace\"] = (data.groupby(\"horse\", group_keys=False)[\"in_place\"].apply(lambda x: x.rolling(4, min_periods=1).sum())) / (((data.groupby(\"horse\")[\"horse\"]).transform(\"cumcount\")+1).apply(lambda x: 4 if x >= 4 else x))\n",
    "data[\"j_cwin\"] = (data.groupby(\"jockey\")[\"win\"].transform(\"sum\"))/(data.groupby(\"jockey\")[\"jockey\"].transform(\"count\"))\n",
    "data[\"j_rwin\"] = (data.groupby(\"jockey\", group_keys=False)[\"win\"].apply(lambda x: x.rolling(4, min_periods=1).sum())) / (((data.groupby(\"jockey\")[\"jockey\"]).transform(\"cumcount\")+1).apply(lambda x: 4 if x >= 4 else x))\n",
    "data[\"j_cplace\"] = (data.groupby(\"jockey\")[\"in_place\"].transform(\"sum\"))/(data.groupby(\"jockey\")[\"jockey\"].transform(\"count\"))\n",
    "data[\"j_rplace\"] = (data.groupby(\"jockey\", group_keys=False)[\"in_place\"].apply(lambda x: x.rolling(4, min_periods=1).sum())) / (((data.groupby(\"jockey\")[\"jockey\"]).transform(\"cumcount\")+1).apply(lambda x: 4 if x >= 4 else x))"
   ]
  },
  {
   "cell_type": "code",
   "execution_count": null,
   "metadata": {},
   "outputs": [],
   "source": [
    "data.to_csv(\"test.csv\")"
   ]
  }
 ],
 "metadata": {
  "kernelspec": {
   "display_name": "Python 3",
   "language": "python",
   "name": "python3"
  },
  "language_info": {
   "codemirror_mode": {
    "name": "ipython",
    "version": 3
   },
   "file_extension": ".py",
   "mimetype": "text/x-python",
   "name": "python",
   "nbconvert_exporter": "python",
   "pygments_lexer": "ipython3",
   "version": "3.10.8"
  },
  "orig_nbformat": 4
 },
 "nbformat": 4,
 "nbformat_minor": 2
}
