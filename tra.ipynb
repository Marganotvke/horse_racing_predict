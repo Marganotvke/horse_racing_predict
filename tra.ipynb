{
  "cells": [
    {
      "attachments": {},
      "cell_type": "markdown",
      "metadata": {},
      "source": [
        "## Colab settings"
      ]
    },
    {
      "cell_type": "code",
      "execution_count": null,
      "metadata": {
        "id": "6wjV-7bAduJh"
      },
      "outputs": [],
      "source": [
        "from google.colab import drive\n",
        "drive.mount('/content/drive')"
      ]
    },
    {
      "cell_type": "code",
      "execution_count": null,
      "metadata": {
        "id": "rJfNwniCQfxn"
      },
      "outputs": [],
      "source": [
        "!nvidia-smi"
      ]
    },
    {
      "cell_type": "code",
      "execution_count": null,
      "metadata": {
        "colab": {
          "base_uri": "https://localhost:8080/"
        },
        "id": "9FszKXdIeDEv",
        "outputId": "f7a5cb39-bc01-4b5d-86cc-909994bc70aa"
      },
      "outputs": [],
      "source": [
        "!pip install --upgrade torch"
      ]
    },
    {
      "attachments": {},
      "cell_type": "markdown",
      "metadata": {},
      "source": [
        "## Load data"
      ]
    },
    {
      "cell_type": "code",
      "execution_count": null,
      "metadata": {
        "id": "0c9UsNNJciUV"
      },
      "outputs": [],
      "source": [
        "import os\n",
        "import pandas as pd\n",
        "import torch as tc\n",
        "import numpy as np\n",
        "import matplotlib as plt\n",
        "\n",
        "pd.set_option('display.max_columns',500)\n",
        "pd.set_option('display.max_rows',200)"
      ]
    },
    {
      "cell_type": "code",
      "execution_count": null,
      "metadata": {
        "colab": {
          "base_uri": "https://localhost:8080/"
        },
        "id": "x_2xpJ0menMx",
        "outputId": "ac4f7333-0496-49b3-8534-26067ef2e24c"
      },
      "outputs": [],
      "source": [
        "%cd /content/drive/MyDrive/pred/"
      ]
    },
    {
      "cell_type": "code",
      "execution_count": null,
      "metadata": {
        "id": "pGa1zb1xciUY"
      },
      "outputs": [],
      "source": [
        "target_csv = \"./data/2017-2023.csv\"\n",
        "if os.path.isfile(target_csv):\n",
        "    data = pd.read_csv(target_csv)\n",
        "else:\n",
        "    raise FileNotFoundError()"
      ]
    },
    {
      "cell_type": "code",
      "execution_count": null,
      "metadata": {
        "id": "rW-vUlmUciUY"
      },
      "outputs": [],
      "source": [
        "split_loc = \"data/set\"\n",
        "if not os.path.exists(split_loc):\n",
        "    os.makedirs(split_loc)"
      ]
    },
    {
      "cell_type": "code",
      "execution_count": null,
      "metadata": {
        "id": "oEAhaZwvciUZ"
      },
      "outputs": [],
      "source": [
        "data.dtypes"
      ]
    },
    {
      "attachments": {},
      "cell_type": "markdown",
      "metadata": {
        "id": "NVSQdiBfciUZ"
      },
      "source": [
        "### Clean up data"
      ]
    },
    {
      "cell_type": "code",
      "execution_count": null,
      "metadata": {
        "colab": {
          "base_uri": "https://localhost:8080/"
        },
        "id": "abbTNQVaciUa",
        "outputId": "f28a334f-bfc5-46eb-eaa6-0ca0245580c7"
      },
      "outputs": [],
      "source": [
        "data.drop(columns=[\"region\",\"comment\",\"num\"], inplace=True, errors=\"ignore\")\n",
        "data.sort_values(by=\"date\",inplace=True)\n",
        "data = data[data.secs != \"-\"]\n",
        "data[\"secs\"] = data[\"secs\"].astype(float)\n",
        "data = data[data[\"or\"] != \"–\"]\n",
        "data[\"or\"] = data[\"or\"].astype(int)\n",
        "data = data[data.rpr != \"–\"]\n",
        "data[\"rpr\"] = data[\"rpr\"].astype(int)\n",
        "data = data[data[\"pos\"].str.isdigit()]\n",
        "data[\"pos\"] = data[\"pos\"].astype(int)\n",
        "data[\"ovr_btn\"] = data[\"ovr_btn\"].astype(float)\n",
        "data[\"class\"] = np.where(~data[\"pattern\"].isna(), \"g\", data[\"class\"])\n",
        "data[\"pattern\"] = np.where(data[\"class\"].isna() & data[\"race_name\"].str.contains('|'.join([\"Classic Mile\", \"Classic Cup\", \"Derby\"])),\"l\",data[\"pattern\"])\n",
        "data[\"class\"].fillna(value=\"NC\", inplace=True)\n",
        "data[\"date\"] = pd.to_datetime(data[\"date\"])\n",
        "data[\"pattern\"] = (data[\"pattern\"].fillna(value=\"NG\"))\n",
        "data[\"age_band_code\"] = data[\"age_band\"].replace({\"2yo+\":0,\"3yo\":1,\"3yo+\":2,\"4yo\":3,\"4yo+\":4})\n",
        "data[\"dist_code\"] = data[\"dist_m\"].replace({distance: i for i, distance in enumerate(sorted(data[\"dist_m\"].unique()))})\n",
        "mapGO = {\"Firm\": 0, \"Fast\": 0, \n",
        "\"Good To Firm\": 1, \"Standard To Fast\": 1, \n",
        "\"Good\": 2, \"Standard\": 2, \n",
        "\"Good To Yielding\": 3, \"Standard To Slow\": 3, \n",
        "\"Yielding\": 4, \"Slow\": 4, \n",
        "\"Yielding To Soft\": 5, \"Soft\": 6, \"Heavy\": 7}\n",
        "data[\"going_code\"] = data[\"going\"].replace(mapGO)\n",
        "data.fillna(value={\"hg\":\"None\"},inplace=True)\n",
        "data[\"draw\"] = data[\"draw\"].astype(int)"
      ]
    },
    {
      "cell_type": "code",
      "execution_count": null,
      "metadata": {
        "id": "fek7bp0AciUa"
      },
      "outputs": [],
      "source": [
        "data[\"class\"].unique()"
      ]
    },
    {
      "cell_type": "markdown",
      "metadata": {
        "id": "G_q6ZCW2ciUa"
      },
      "source": [
        "### Create new features"
      ]
    },
    {
      "cell_type": "code",
      "execution_count": null,
      "metadata": {
        "id": "U9gcYPw-ciUb"
      },
      "outputs": [],
      "source": [
        "train = data.copy()\n",
        "train[\"month\"] = train[\"date\"].dt.month\n",
        "train[\"quarter\"] = (train[\"date\"].dt.month+2)//3\n",
        "# if inner draw\n",
        "train[\"in_draw\"] = np.where(train[\"draw\"] <= 4, 1, 0)\n",
        "# if outer draw\n",
        "train[\"out_draw\"] = np.where(train[\"draw\"] >= 10, 1, 0)\n",
        "# if top3\n",
        "train[\"in_place\"] = np.where(train[\"pos\"] <= 3,1,0)\n",
        "# if win\n",
        "train[\"win\"] = np.where(train[\"pos\"] == 1, 1, 0)\n",
        "# log of dec\n",
        "train[\"decLog\"] = np.log1p(train[\"dec\"])\n",
        "# age under 3\n",
        "train[\"age_u3\"] = np.where(train[\"age\"] <= 4, 1, 0)\n",
        "# rest time between race in days\n",
        "train[\"rest_time\"] = (train[\"date\"]-(train.groupby(\"horse_id\")[\"date\"].shift())).dt.days\n",
        "train[\"rest_time\"] = train[\"rest_time\"].fillna(train[\"rest_time\"].mode()[0])\n",
        "train[\"rest_less14\"] = np.where(train[\"rest_time\"] < 14, 1, 0)\n",
        "train[\"rest_ovr32\"] = (train[\"rest_time\"]>32)*1\n",
        "# top odds\n",
        "train[\"topDec\"] = np.where(train[\"dec\"] == (train.groupby(\"race_id\", group_keys = False)[\"dec\"].transform(\"min\")), 1, 0)\n",
        "# number of recent matches to count\n",
        "rct = 3\n",
        "# horse_id historic/recent winrate/inplacerate\n",
        "train[\"h_hwin\"] =  ((train.groupby(\"horse_id\")[\"win\"].transform(lambda x: x.shift().cumsum().fillna(0))) / (train.groupby(\"horse_id\")[\"horse_id\"].transform(\"cumcount\"))).fillna(0)\n",
        "train[\"h_rwin\"] = ((train.groupby(\"horse_id\", group_keys=False)[\"win\"].apply(lambda x: x.shift().fillna(0).rolling(rct, min_periods=1).sum()))/(((train.groupby(\"horse_id\")[\"horse_id\"]).transform(\"cumcount\")).apply(lambda x: rct if x >= rct else x))).fillna(0)\n",
        "train[\"h_hplace\"] =  ((train.groupby(\"horse_id\")[\"in_place\"].transform(lambda x: x.shift().cumsum().fillna(0))) / (train.groupby(\"horse_id\")[\"horse_id\"].transform(\"cumcount\"))).fillna(0)\n",
        "train[\"h_rplace\"] = ((train.groupby(\"horse_id\", group_keys=False)[\"in_place\"].apply(lambda x: x.shift().fillna(0).rolling(rct, min_periods=1).sum()))/(((train.groupby(\"horse_id\")[\"horse_id\"]).transform(\"cumcount\")).apply(lambda x: rct if x >= rct else x))).fillna(0)\n",
        "# jockey_id historic/recent winrate/inplacerate\n",
        "train[\"j_hwin\"] =  ((train.groupby(\"jockey_id\")[\"win\"].transform(lambda x: x.shift().cumsum().fillna(0))) / (train.groupby(\"jockey_id\")[\"jockey_id\"].transform(\"cumcount\"))).fillna(0)\n",
        "train[\"j_rwin\"] = ((train.groupby(\"jockey_id\", group_keys=False)[\"win\"].apply(lambda x: x.shift().fillna(0).rolling(rct, min_periods=1).sum()))/(((train.groupby(\"jockey_id\")[\"jockey_id\"]).transform(\"cumcount\")).apply(lambda x: rct if x >= rct else x))).fillna(0)\n",
        "train[\"j_hplace\"] =  ((train.groupby(\"jockey_id\")[\"in_place\"].transform(lambda x: x.shift().cumsum().fillna(0))) / (train.groupby(\"jockey_id\")[\"jockey_id\"].transform(\"cumcount\"))).fillna(0)\n",
        "train[\"j_rplace\"] = ((train.groupby(\"jockey_id\", group_keys=False)[\"in_place\"].apply(lambda x: x.shift().fillna(0).rolling(rct, min_periods=1).sum()))/(((train.groupby(\"jockey_id\")[\"jockey_id\"]).transform(\"cumcount\")).apply(lambda x: rct if x >= rct else x))).fillna(0)\n",
        "# trainer_id historic/recent winrate/inplacerate\n",
        "train[\"t_hwin\"] =  ((train.groupby(\"trainer_id\")[\"win\"].transform(lambda x: x.shift().cumsum().fillna(0))) / (train.groupby(\"trainer_id\")[\"trainer_id\"].transform(\"cumcount\"))).fillna(0)\n",
        "train[\"t_rwin\"] = ((train.groupby(\"trainer_id\", group_keys=False)[\"win\"].apply(lambda x: x.shift().fillna(0).rolling(rct, min_periods=1).sum()))/(((train.groupby(\"trainer_id\")[\"trainer_id\"]).transform(\"cumcount\")).apply(lambda x: rct if x >= rct else x))).fillna(0)\n",
        "train[\"t_hplace\"] =  ((train.groupby(\"trainer_id\")[\"in_place\"].transform(lambda x: x.shift().cumsum().fillna(0))) / (train.groupby(\"trainer_id\")[\"trainer_id\"].transform(\"cumcount\"))).fillna(0)\n",
        "train[\"t_rplace\"] = ((train.groupby(\"trainer_id\", group_keys=False)[\"in_place\"].apply(lambda x: x.shift().fillna(0).rolling(rct, min_periods=1).sum()))/(((train.groupby(\"trainer_id\")[\"trainer_id\"]).transform(\"cumcount\")).apply(lambda x: rct if x >= rct else x))).fillna(0)\n",
        "\n"
      ]
    },
    {
      "cell_type": "code",
      "execution_count": null,
      "metadata": {
        "id": "7mWEBvhGciUb"
      },
      "outputs": [],
      "source": [
        "train = train[ ['date'] + [ col for col in train.columns if col != 'date' ] ]\n",
        "train.sort_values(by=[\"date\",\"pos\"],inplace=True)\n",
        "train.reset_index(drop=True, inplace=True)"
      ]
    },
    {
      "cell_type": "code",
      "execution_count": null,
      "metadata": {
        "id": "dceO6gM4ciUc"
      },
      "outputs": [],
      "source": [
        "train = train.drop(columns=\n",
        "[\n",
        "    'date',\n",
        "    'off',\n",
        "    'going',\n",
        "    'age_band',\n",
        "    'dist_m',\n",
        "    'surface',\n",
        "    'horse_id',\n",
        "    'horse',\n",
        "    'dec',\n",
        "    \n",
        "    'jockey',\n",
        "    'trainer',\n",
        "    'dam',\n",
        "    'sire',\n",
        "    'damsire',\n",
        "    # \n",
        "    # 'jockey_id',\n",
        "    # 'trainer_id',\n",
        "    # 'sire_id',\n",
        "    # 'dam_id',\n",
        "    # 'damsire_id',\n",
        "    ],\n",
        "    errors='ignore')"
      ]
    },
    {
      "cell_type": "code",
      "execution_count": null,
      "metadata": {
        "id": "j8uoCRM2ciUc"
      },
      "outputs": [],
      "source": [
        "# optional, can test later\n",
        "train = train.drop(columns=[\n",
        "    \"race_id\",\n",
        "    \"race_name\",\n",
        "    ], errors='ignore')"
      ]
    },
    {
      "cell_type": "code",
      "execution_count": null,
      "metadata": {
        "id": "WvI5Xuc1ciUc"
      },
      "outputs": [],
      "source": [
        "train = pd.get_dummies(train, columns=[\"course\",\"class\",\"pattern\",\"pos\",\"draw\",\"sex\",\"hg\"], drop_first=True)"
      ]
    },
    {
      "cell_type": "code",
      "execution_count": null,
      "metadata": {
        "id": "0stoLChhciUc"
      },
      "outputs": [],
      "source": [
        "train.isna().sum()"
      ]
    },
    {
      "cell_type": "code",
      "execution_count": null,
      "metadata": {
        "id": "0OXmW9i5ciUc"
      },
      "outputs": [],
      "source": [
        "# create embeds\n",
        "nominal = ['jockey_id',\n",
        "   'trainer_id',\n",
        "   'sire_id',\n",
        "   'dam_id',\n",
        "   'damsire_id',]"
      ]
    },
    {
      "cell_type": "code",
      "execution_count": null,
      "metadata": {
        "colab": {
          "base_uri": "https://localhost:8080/"
        },
        "id": "C0T4gmQFciUc",
        "outputId": "002ad9b2-7662-40ef-e677-b3530a4cc0a5"
      },
      "outputs": [],
      "source": [
        "inp = train.drop(columns=[\"win\"]+nominal)\n",
        "inp_nominal = train[nominal]\n",
        "inp_train = inp.drop(inp.tail(9).index)\n",
        "inp_nominal_train = inp_nominal.drop(inp_nominal.tail(9).index)\n",
        "inp_test = inp.tail(9)\n",
        "inp_nominal_test = inp_nominal.tail(9)\n",
        "print(f\"input dimension(exclude nominal):{(inp_var := len(inp.columns))}\")\n",
        "out = train[\"win\"]\n",
        "out_train = out.drop(out.tail(9).index)\n",
        "out_test = out.tail(9)\n",
        "cnt = 0\n",
        "for col in nominal:\n",
        "    cur = inp_nominal_train[col]\n",
        "    inp_nominal_train[col] = cur.replace({cid: i for i, cid in enumerate(sorted(cur.unique()))})\n",
        "    print(f\"{col}: {len(inp_nominal_train[col].unique())}\")\n",
        "    cnt += len(inp_nominal_train[col].unique())\n",
        "print(f\"total category: {cnt}\")"
      ]
    },
    {
      "cell_type": "markdown",
      "metadata": {
        "id": "xVXPr5gaciUd"
      },
      "source": [
        "#### For outputing feature engineered data (optional)"
      ]
    },
    {
      "cell_type": "code",
      "execution_count": null,
      "metadata": {
        "id": "kCZi8UpnciUd"
      },
      "outputs": [],
      "source": [
        "train.to_csv(\"test.csv\")"
      ]
    },
    {
      "cell_type": "markdown",
      "metadata": {
        "id": "jWHUb9QMciUd"
      },
      "source": [
        "## Prep for training"
      ]
    },
    {
      "cell_type": "code",
      "execution_count": null,
      "metadata": {
        "colab": {
          "base_uri": "https://localhost:8080/"
        },
        "id": "VlfwrdKwciUd",
        "outputId": "5b43a28b-1fff-48a9-ffe3-8fee148ba8e4"
      },
      "outputs": [],
      "source": [
        "import torch.nn as nn\n",
        "import torch.optim as opt\n",
        "import math\n",
        "device = tc.device(\"cuda\" if tc.cuda.is_available() else \"cpu\")\n",
        "print(f\"using {device}\")"
      ]
    },
    {
      "cell_type": "markdown",
      "metadata": {
        "id": "FGa-0_MBciUd"
      },
      "source": [
        "Train on target = win, winrate = true"
      ]
    },
    {
      "cell_type": "code",
      "execution_count": null,
      "metadata": {
        "id": "NpDumzNzciUe"
      },
      "outputs": [],
      "source": [
        "X = tc.tensor(inp_train.values, dtype=tc.float32).to(device)\n",
        "X_nominal = {col: tc.LongTensor(inp_nominal_train[col]).to(device) for col in nominal}\n",
        "y = tc.tensor(out_train.values, dtype=tc.float32, device=device).to(device)"
      ]
    },
    {
      "cell_type": "code",
      "execution_count": null,
      "metadata": {
        "colab": {
          "base_uri": "https://localhost:8080/"
        },
        "id": "jqlUrwd9Svsw",
        "outputId": "eb7b0926-3a77-4e52-c646-8a09ccfc6548"
      },
      "outputs": [],
      "source": [
        "for e in X_nominal.values():\n",
        "  print(e.get_device())"
      ]
    },
    {
      "cell_type": "markdown",
      "metadata": {
        "id": "kb5gzfCFciUe"
      },
      "source": [
        "#### Model sturcture creation"
      ]
    },
    {
      "cell_type": "code",
      "execution_count": null,
      "metadata": {
        "colab": {
          "base_uri": "https://localhost:8080/"
        },
        "id": "NGKPfwcxciUe",
        "outputId": "bfb7e5ed-14ca-4ebb-a98b-61e59bdaa305"
      },
      "outputs": [],
      "source": [
        "class PredictWin(nn.Module):\n",
        "    def __init__(self):\n",
        "        super().__init__()\n",
        "        self.embedding = nn.ModuleDict()\n",
        "        self.embLen = 0\n",
        "        for col in nominal:\n",
        "            cnt = len(train[col].unique())\n",
        "            emb_dim = min(500,cnt//2) if cnt <= 1000 else int(75.6496 * math.log(cnt + 176.623) - 41.4457)\n",
        "            self.embLen += emb_dim\n",
        "            tmp = nn.Embedding(num_embeddings=cnt+1, embedding_dim=emb_dim)\n",
        "            self.embedding[col] = tmp\n",
        "        self.iv = inp_var + self.embLen\n",
        "        self.linear = nn.Sequential(\n",
        "            nn.Linear(self.iv, self.iv+self.iv//3+self.iv%3),\n",
        "            nn.ReLU(),\n",
        "            nn.Linear(self.iv+self.iv//3+self.iv%3,self.iv),\n",
        "            nn.ReLU(),\n",
        "            nn.Linear(self.iv, 1),\n",
        "            nn.Sigmoid(),\n",
        "        )\n",
        "        self.drop = nn.Dropout(0.4)\n",
        "        \n",
        "    def forward(self, x, x_nominal):\n",
        "        x_nominal = [self.embedding[col](x_nominal[col]) for col in nominal]\n",
        "        x_nominal = tc.cat(x_nominal, dim = 1)\n",
        "        x = tc.cat([x,x_nominal], dim = 1)\n",
        "        return self.linear(x)\n",
        "\n",
        "model = PredictWin()\n",
        "model = model.to(device)\n",
        "model"
      ]
    },
    {
      "cell_type": "code",
      "execution_count": null,
      "metadata": {
        "id": "WEDUAOD3ciUe"
      },
      "outputs": [],
      "source": [
        "loss_fn = nn.BCELoss().to(device)\n",
        "optim = opt.Adam(model.parameters(), lr = 0.01)"
      ]
    },
    {
      "cell_type": "code",
      "execution_count": null,
      "metadata": {
        "colab": {
          "base_uri": "https://localhost:8080/"
        },
        "id": "gpWcvyWQciUe",
        "outputId": "c0743e45-151c-4343-b37d-f5f967a81dad"
      },
      "outputs": [],
      "source": [
        "n_epoch = model.iv*3\n",
        "batch_size  = 128\n",
        "n_epoch"
      ]
    },
    {
      "cell_type": "code",
      "execution_count": null,
      "metadata": {
        "id": "0HQL69fnciUe"
      },
      "outputs": [],
      "source": [
        "from tqdm.notebook import tqdm\n",
        "for epoch in tqdm(range(n_epoch),position=0, leave=True):\n",
        "  for iteration in tqdm(range(0,len(X),batch_size),position=0, leave=True):\n",
        "    for batch in range(batch_size):\n",
        "        Xbatch = X[batch:batch+batch_size]\n",
        "        XnBatch = {col: X_nominal[col][batch:batch+batch_size] for col in nominal}\n",
        "        y_pred = model(Xbatch, XnBatch)\n",
        "        y_pred = tc.squeeze(y_pred)\n",
        "        Ybatch = y[batch:batch+batch_size]\n",
        "        loss = loss_fn(y_pred,Ybatch)\n",
        "        optim.zero_grad()\n",
        "        loss.backward()\n",
        "        optim.step()\n",
        "  print(f\"Epoch {epoch} loss: {loss}\")"
      ]
    }
  ],
  "metadata": {
    "colab": {
      "provenance": []
    },
    "gpuClass": "standard",
    "kernelspec": {
      "display_name": "Python 3",
      "language": "python",
      "name": "python3"
    },
    "language_info": {
      "codemirror_mode": {
        "name": "ipython",
        "version": 3
      },
      "file_extension": ".py",
      "mimetype": "text/x-python",
      "name": "python",
      "nbconvert_exporter": "python",
      "pygments_lexer": "ipython3",
      "version": "3.10.8"
    },
    "orig_nbformat": 4
  },
  "nbformat": 4,
  "nbformat_minor": 0
}
