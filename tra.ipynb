{
 "cells": [
  {
   "cell_type": "code",
   "execution_count": 1,
   "metadata": {},
   "outputs": [],
   "source": [
    "import os\n",
    "import pandas as pd\n",
    "import torch as tc\n",
    "import numpy as np\n",
    "import matplotlib as plt\n",
    "import datetime as dttt\n",
    "\n",
    "pd.set_option('display.max_columns',500)"
   ]
  },
  {
   "cell_type": "code",
   "execution_count": 21,
   "metadata": {},
   "outputs": [],
   "source": [
    "if os.path.isfile(\"data\\\\2023.csv\"):\n",
    "    data = pd.read_csv(\"data\\\\2023.csv\")"
   ]
  },
  {
   "cell_type": "code",
   "execution_count": null,
   "metadata": {},
   "outputs": [],
   "source": [
    "split_loc = \"data\\\\set\"\n",
    "if not os.path.exists(split_loc):\n",
    "    os.makedirs(split_loc)"
   ]
  },
  {
   "cell_type": "code",
   "execution_count": 18,
   "metadata": {},
   "outputs": [
    {
     "data": {
      "text/plain": [
       "date             datetime64[ns]\n",
       "course                   object\n",
       "off                      object\n",
       "race_name                object\n",
       "class                     int64\n",
       "pattern                  object\n",
       "age_band                 object\n",
       "dist_m                  float64\n",
       "going                    object\n",
       "surface                  object\n",
       "ran                       int64\n",
       "pos                      object\n",
       "draw                      int64\n",
       "ovr_btn                  object\n",
       "horse                    object\n",
       "age                       int64\n",
       "sex                      object\n",
       "lbs                       int64\n",
       "hg                       object\n",
       "secs                     object\n",
       "dec                     float64\n",
       "jockey                   object\n",
       "trainer                  object\n",
       "or                       object\n",
       "rpr                      object\n",
       "sire                     object\n",
       "dam                      object\n",
       "damsire                  object\n",
       "course_code               int64\n",
       "date_time        datetime64[ns]\n",
       "quarter                   int64\n",
       "pattern_code            float64\n",
       "age_band_code             int64\n",
       "dist_code               float64\n",
       "going_code                int64\n",
       "surface_code              int64\n",
       "sex_code                  int64\n",
       "dtype: object"
      ]
     },
     "execution_count": 18,
     "metadata": {},
     "output_type": "execute_result"
    }
   ],
   "source": [
    "data.dtypes"
   ]
  },
  {
   "attachments": {},
   "cell_type": "markdown",
   "metadata": {},
   "source": [
    "### Clean up data"
   ]
  },
  {
   "cell_type": "code",
   "execution_count": 22,
   "metadata": {},
   "outputs": [],
   "source": [
    "data.drop(columns=[\"region\",\"comment\",\"num\"], inplace=True)\n",
    "data = data[data.secs != \"-\"]\n",
    "data = data[data[\"or\"] != \"–\"]\n",
    "data = data[data.rpr != \"–\"]\n",
    "data = data[data[\"pos\"].str.isdigit()]\n",
    "data[\"pos\"] = data[\"pos\"].astype(int)\n",
    "data[\"class\"] = np.where(~data[\"pattern\"].isna(), \"g\", data[\"class\"])\n",
    "name_match = [\"Classic Mile\", \"Classic Cup\", \"Derby\"]\n",
    "mapCL = {\"Class 5\": 0, \"Class 4\":0, \"Class 3\":1, \"Class 2\": 2, \"Class 1\":3, \"l\":4, \"g\":5, \"NaN\":0}\n",
    "data[\"class\"] = np.where(data[\"class\"].isna() & data[\"race_name\"].str.contains('|'.join(name_match)),\"l\",data[\"class\"])\n",
    "data[\"class\"].fillna(value=\"NaN\")\n",
    "data[\"class\"].replace(mapCL,inplace=True)\n",
    "mapC = {\"Happy Valley (HK)\":0, \"Sha Tin (HK)\":1}\n",
    "data[\"course_code\"] = data[\"course\"].replace(mapC)\n",
    "data[\"date_time\"] = pd.to_datetime(data[\"date\"] + \" \" + data[\"off\"])\n",
    "data[\"date\"] = pd.to_datetime(data[\"date\"])\n",
    "data[\"quarter\"] = (data[\"date\"].dt.month+2)//3\n",
    "mapPT = {\"NaN\":0,\"Group 3\":1,\"Group 2\": 2, \"Group 1\":3}\n",
    "data[\"pattern\"].fillna(value=\"NaN\")\n",
    "data[\"pattern_code\"] = data[\"pattern\"].replace(mapPT)\n",
    "mapAB = {\"2yo+\":0,\"3yo\":1,\"3yo+\":2,\"4yo\":3,\"4yo+\":4}\n",
    "data[\"age_band_code\"] = data[\"age_band\"].replace(mapAB)\n",
    "mapDist = {distance: i for i, distance in enumerate(sorted(data[\"dist_m\"].unique()))}\n",
    "data[\"dist_code\"] = data[\"dist_m\"].replace(mapDist)\n",
    "mapGO = {surf: i for i, surf in enumerate(data[\"going\"].unique())}\n",
    "data[\"going_code\"] = data[\"going\"].replace(mapGO)\n",
    "mapSF = {surf: i for i, surf in enumerate(data[\"surface\"].unique())}\n",
    "data[\"surface_code\"] = data[\"surface\"].replace(mapSF)\n",
    "mapSX = {sex: i for i, sex in enumerate(data[\"sex\"].unique())}\n",
    "data[\"sex_code\"] = data[\"sex\"].replace(mapSX)\n",
    "data.fillna(value={\"hg\":\"NaN\",\"class\":\"g\"},inplace=True)\n",
    "data[\"in_place\"] = np.where(data[\"pos\"] <= 3,1,0)\n",
    "data[\"decLog\"] = np.log1p(data[\"dec\"])"
   ]
  },
  {
   "cell_type": "code",
   "execution_count": 25,
   "metadata": {},
   "outputs": [
    {
     "data": {
      "text/plain": [
       "date             datetime64[ns]\n",
       "course                   object\n",
       "off                      object\n",
       "race_name                object\n",
       "class                     int64\n",
       "pattern                  object\n",
       "age_band                 object\n",
       "dist_m                  float64\n",
       "going                    object\n",
       "surface                  object\n",
       "ran                       int64\n",
       "pos                       int32\n",
       "draw                      int64\n",
       "ovr_btn                  object\n",
       "horse                    object\n",
       "age                       int64\n",
       "sex                      object\n",
       "lbs                       int64\n",
       "hg                       object\n",
       "secs                     object\n",
       "dec                     float64\n",
       "jockey                   object\n",
       "trainer                  object\n",
       "or                       object\n",
       "rpr                      object\n",
       "sire                     object\n",
       "dam                      object\n",
       "damsire                  object\n",
       "course_code               int64\n",
       "date_time        datetime64[ns]\n",
       "quarter                   int64\n",
       "pattern_code            float64\n",
       "age_band_code             int64\n",
       "dist_code               float64\n",
       "going_code                int64\n",
       "surface_code              int64\n",
       "sex_code                  int64\n",
       "in_place                  int32\n",
       "decLog                  float64\n",
       "dtype: object"
      ]
     },
     "execution_count": 25,
     "metadata": {},
     "output_type": "execute_result"
    }
   ],
   "source": [
    "data.dtypes"
   ]
  },
  {
   "cell_type": "code",
   "execution_count": null,
   "metadata": {},
   "outputs": [],
   "source": []
  }
 ],
 "metadata": {
  "kernelspec": {
   "display_name": "Python 3",
   "language": "python",
   "name": "python3"
  },
  "language_info": {
   "codemirror_mode": {
    "name": "ipython",
    "version": 3
   },
   "file_extension": ".py",
   "mimetype": "text/x-python",
   "name": "python",
   "nbconvert_exporter": "python",
   "pygments_lexer": "ipython3",
   "version": "3.10.8"
  },
  "orig_nbformat": 4
 },
 "nbformat": 4,
 "nbformat_minor": 2
}
